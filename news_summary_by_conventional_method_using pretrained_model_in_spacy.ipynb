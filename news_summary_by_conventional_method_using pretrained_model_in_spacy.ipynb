{
 "cells": [
  {
   "cell_type": "markdown",
   "id": "85b0f95c",
   "metadata": {},
   "source": [
    "#### Types of Text Summarization\n",
    "There are two types of Text Summarization, one is Extractive Type and another one is Abstractive Type. Extractive summarization takes the original text and extracts information that is identical to it.On the other hand, abstractive seeks to construct a one-of-a-kind summary by learning the most significant points from the original text."
   ]
  },
  {
   "cell_type": "markdown",
   "id": "5cccd303",
   "metadata": {},
   "source": [
    "#### Conventional\n",
    "Steps involved:\n",
    "-\n",
    "-Text Cleaning\n",
    "\n",
    "-Sentence Tokenization\n",
    "\n",
    "-Word Tokenization\n",
    "\n",
    "-Word Frequency Table\n",
    "\n",
    "-Summarization"
   ]
  },
  {
   "cell_type": "code",
   "execution_count": 1,
   "id": "ae1fdcb1",
   "metadata": {},
   "outputs": [],
   "source": [
    "#pip install spacy"
   ]
  },
  {
   "cell_type": "code",
   "execution_count": 2,
   "id": "6b130a87",
   "metadata": {},
   "outputs": [],
   "source": [
    "#pip install nltk"
   ]
  },
  {
   "cell_type": "code",
   "execution_count": 3,
   "id": "56d58bfb",
   "metadata": {},
   "outputs": [],
   "source": [
    "import spacy\n",
    "from spacy.lang.en.stop_words import STOP_WORDS\n",
    "from string import punctuation\n",
    "import nltk"
   ]
  },
  {
   "cell_type": "code",
   "execution_count": 4,
   "id": "851525a2",
   "metadata": {},
   "outputs": [],
   "source": [
    "import os\n",
    "os.chdir(\"C:\\\\Users\\\\RM\\\\Desktop\\\\News_Summary-master\")"
   ]
  },
  {
   "cell_type": "code",
   "execution_count": 5,
   "id": "509b9f7e",
   "metadata": {},
   "outputs": [],
   "source": [
    "import pandas as pd"
   ]
  },
  {
   "cell_type": "code",
   "execution_count": 6,
   "id": "0e3c3f82",
   "metadata": {},
   "outputs": [],
   "source": [
    "raw_data = pd.read_csv(\"news_summary.csv\",encoding=\"ISO-8859-1\")"
   ]
  },
  {
   "cell_type": "code",
   "execution_count": 7,
   "id": "475f0b92",
   "metadata": {},
   "outputs": [
    {
     "data": {
      "text/html": [
       "<div>\n",
       "<style scoped>\n",
       "    .dataframe tbody tr th:only-of-type {\n",
       "        vertical-align: middle;\n",
       "    }\n",
       "\n",
       "    .dataframe tbody tr th {\n",
       "        vertical-align: top;\n",
       "    }\n",
       "\n",
       "    .dataframe thead th {\n",
       "        text-align: right;\n",
       "    }\n",
       "</style>\n",
       "<table border=\"1\" class=\"dataframe\">\n",
       "  <thead>\n",
       "    <tr style=\"text-align: right;\">\n",
       "      <th></th>\n",
       "      <th>author</th>\n",
       "      <th>date</th>\n",
       "      <th>headlines</th>\n",
       "      <th>read_more</th>\n",
       "      <th>text</th>\n",
       "      <th>ctext</th>\n",
       "    </tr>\n",
       "  </thead>\n",
       "  <tbody>\n",
       "    <tr>\n",
       "      <th>0</th>\n",
       "      <td>Chhavi Tyagi</td>\n",
       "      <td>03 Aug 2017,Thursday</td>\n",
       "      <td>Daman &amp; Diu revokes mandatory Rakshabandhan in...</td>\n",
       "      <td>http://www.hindustantimes.com/india-news/raksh...</td>\n",
       "      <td>The Administration of Union Territory Daman an...</td>\n",
       "      <td>The Daman and Diu administration on Wednesday ...</td>\n",
       "    </tr>\n",
       "    <tr>\n",
       "      <th>1</th>\n",
       "      <td>Daisy Mowke</td>\n",
       "      <td>03 Aug 2017,Thursday</td>\n",
       "      <td>Malaika slams user who trolled her for 'divorc...</td>\n",
       "      <td>http://www.hindustantimes.com/bollywood/malaik...</td>\n",
       "      <td>Malaika Arora slammed an Instagram user who tr...</td>\n",
       "      <td>From her special numbers to TV?appearances, Bo...</td>\n",
       "    </tr>\n",
       "    <tr>\n",
       "      <th>2</th>\n",
       "      <td>Arshiya Chopra</td>\n",
       "      <td>03 Aug 2017,Thursday</td>\n",
       "      <td>'Virgin' now corrected to 'Unmarried' in IGIMS...</td>\n",
       "      <td>http://www.hindustantimes.com/patna/bihar-igim...</td>\n",
       "      <td>The Indira Gandhi Institute of Medical Science...</td>\n",
       "      <td>The Indira Gandhi Institute of Medical Science...</td>\n",
       "    </tr>\n",
       "    <tr>\n",
       "      <th>3</th>\n",
       "      <td>Sumedha Sehra</td>\n",
       "      <td>03 Aug 2017,Thursday</td>\n",
       "      <td>Aaj aapne pakad liya: LeT man Dujana before be...</td>\n",
       "      <td>http://indiatoday.intoday.in/story/abu-dujana-...</td>\n",
       "      <td>Lashkar-e-Taiba's Kashmir commander Abu Dujana...</td>\n",
       "      <td>Lashkar-e-Taiba's Kashmir commander Abu Dujana...</td>\n",
       "    </tr>\n",
       "    <tr>\n",
       "      <th>4</th>\n",
       "      <td>Aarushi Maheshwari</td>\n",
       "      <td>03 Aug 2017,Thursday</td>\n",
       "      <td>Hotel staff to get training to spot signs of s...</td>\n",
       "      <td>http://indiatoday.intoday.in/story/sex-traffic...</td>\n",
       "      <td>Hotels in Maharashtra will train their staff t...</td>\n",
       "      <td>Hotels in Mumbai and other Indian cities are t...</td>\n",
       "    </tr>\n",
       "  </tbody>\n",
       "</table>\n",
       "</div>"
      ],
      "text/plain": [
       "               author                  date  \\\n",
       "0        Chhavi Tyagi  03 Aug 2017,Thursday   \n",
       "1         Daisy Mowke  03 Aug 2017,Thursday   \n",
       "2      Arshiya Chopra  03 Aug 2017,Thursday   \n",
       "3       Sumedha Sehra  03 Aug 2017,Thursday   \n",
       "4  Aarushi Maheshwari  03 Aug 2017,Thursday   \n",
       "\n",
       "                                           headlines  \\\n",
       "0  Daman & Diu revokes mandatory Rakshabandhan in...   \n",
       "1  Malaika slams user who trolled her for 'divorc...   \n",
       "2  'Virgin' now corrected to 'Unmarried' in IGIMS...   \n",
       "3  Aaj aapne pakad liya: LeT man Dujana before be...   \n",
       "4  Hotel staff to get training to spot signs of s...   \n",
       "\n",
       "                                           read_more  \\\n",
       "0  http://www.hindustantimes.com/india-news/raksh...   \n",
       "1  http://www.hindustantimes.com/bollywood/malaik...   \n",
       "2  http://www.hindustantimes.com/patna/bihar-igim...   \n",
       "3  http://indiatoday.intoday.in/story/abu-dujana-...   \n",
       "4  http://indiatoday.intoday.in/story/sex-traffic...   \n",
       "\n",
       "                                                text  \\\n",
       "0  The Administration of Union Territory Daman an...   \n",
       "1  Malaika Arora slammed an Instagram user who tr...   \n",
       "2  The Indira Gandhi Institute of Medical Science...   \n",
       "3  Lashkar-e-Taiba's Kashmir commander Abu Dujana...   \n",
       "4  Hotels in Maharashtra will train their staff t...   \n",
       "\n",
       "                                               ctext  \n",
       "0  The Daman and Diu administration on Wednesday ...  \n",
       "1  From her special numbers to TV?appearances, Bo...  \n",
       "2  The Indira Gandhi Institute of Medical Science...  \n",
       "3  Lashkar-e-Taiba's Kashmir commander Abu Dujana...  \n",
       "4  Hotels in Mumbai and other Indian cities are t...  "
      ]
     },
     "execution_count": 7,
     "metadata": {},
     "output_type": "execute_result"
    }
   ],
   "source": [
    "raw_data.head()"
   ]
  },
  {
   "cell_type": "code",
   "execution_count": 8,
   "id": "1a4cbdc5",
   "metadata": {},
   "outputs": [
    {
     "data": {
      "text/plain": [
       "0    The Administration of Union Territory Daman an...\n",
       "Name: text, dtype: object"
      ]
     },
     "execution_count": 8,
     "metadata": {},
     "output_type": "execute_result"
    }
   ],
   "source": [
    "raw_data['text'].head(1)"
   ]
  },
  {
   "cell_type": "code",
   "execution_count": 9,
   "id": "ba5e0cae",
   "metadata": {},
   "outputs": [],
   "source": [
    "pd.set_option('display.max_columns', None)\n",
    "pd.set_option('display.max_rows',None)"
   ]
  },
  {
   "cell_type": "code",
   "execution_count": 10,
   "id": "340e70e9",
   "metadata": {},
   "outputs": [
    {
     "data": {
      "text/plain": [
       "0    The Administration of Union Territory Daman an...\n",
       "Name: text, dtype: object"
      ]
     },
     "execution_count": 10,
     "metadata": {},
     "output_type": "execute_result"
    }
   ],
   "source": [
    "raw_data['text'].head(1)"
   ]
  },
  {
   "cell_type": "code",
   "execution_count": 11,
   "id": "b04c264a",
   "metadata": {},
   "outputs": [],
   "source": [
    "pd.set_option('display.max_colwidth', None)"
   ]
  },
  {
   "cell_type": "code",
   "execution_count": 12,
   "id": "a8a0f8c8",
   "metadata": {},
   "outputs": [
    {
     "data": {
      "text/plain": [
       "0    The Administration of Union Territory Daman and Diu has revoked its order that made it compulsory for women to tie rakhis to their male colleagues on the occasion of Rakshabandhan on August 7. The administration was forced to withdraw the decision within 24 hours of issuing the circular after it received flak from employees and was slammed on social media.\n",
       "Name: text, dtype: object"
      ]
     },
     "execution_count": 12,
     "metadata": {},
     "output_type": "execute_result"
    }
   ],
   "source": [
    "raw_data['text'].head(1)"
   ]
  },
  {
   "cell_type": "markdown",
   "id": "aebe1512",
   "metadata": {},
   "source": [
    "#### above text is compressed text6 in inshorts. The full text in the article is was as below."
   ]
  },
  {
   "cell_type": "code",
   "execution_count": 13,
   "id": "26519839",
   "metadata": {
    "collapsed": true
   },
   "outputs": [
    {
     "data": {
      "text/plain": [
       "0    The Daman and Diu administration on Wednesday withdrew a circular that asked women staff to tie rakhis on male colleagues after the order triggered a backlash from employees and was ripped apart on social media.The union territory?s administration was forced to retreat within 24 hours of issuing the circular that made it compulsory for its staff to celebrate Rakshabandhan at workplace.?It has been decided to celebrate the festival of Rakshabandhan on August 7. In this connection, all offices/ departments shall remain open and celebrate the festival collectively at a suitable time wherein all the lady staff shall tie rakhis to their colleagues,? the order, issued on August 1 by Gurpreet Singh, deputy secretary (personnel), had said.To ensure that no one skipped office, an attendance report was to be sent to the government the next evening.The two notifications ? one mandating the celebration of Rakshabandhan (left) and the other withdrawing the mandate (right) ? were issued by the Daman and Diu administration a day apart. The circular was withdrawn through a one-line order issued late in the evening by the UT?s department of personnel and administrative reforms.?The circular is ridiculous. There are sensitivities involved. How can the government dictate who I should tie rakhi to? We should maintain the professionalism of a workplace? an official told Hindustan Times earlier in the day. She refused to be identified.The notice was issued on Daman and Diu administrator and former Gujarat home minister Praful Kodabhai Patel?s direction, sources said.Rakshabandhan, a celebration of the bond between brothers and sisters, is one of several Hindu festivities and rituals that are no longer confined of private, family affairs but have become tools to push politic al ideologies.In 2014, the year BJP stormed to power at the Centre, Rashtriya Swayamsevak Sangh (RSS) chief Mohan Bhagwat said the festival had ?national significance? and should be celebrated widely ?to protect Hindu culture and live by the values enshrined in it?. The RSS is the ideological parent of the ruling BJP.Last year, women ministers in the Modi government went to the border areas to celebrate the festival with soldiers. A year before, all cabinet ministers were asked to go to their constituencies for the festival.\n",
       "Name: ctext, dtype: object"
      ]
     },
     "execution_count": 13,
     "metadata": {},
     "output_type": "execute_result"
    }
   ],
   "source": [
    "raw_data['ctext'].head(1)"
   ]
  },
  {
   "cell_type": "code",
   "execution_count": 14,
   "id": "d7106d23",
   "metadata": {},
   "outputs": [],
   "source": [
    "#!pip3 install en_core_web_sm\n",
    "#!python -m spacy download en"
   ]
  },
  {
   "cell_type": "code",
   "execution_count": 15,
   "id": "e34c3e1c",
   "metadata": {},
   "outputs": [],
   "source": [
    "nlp = spacy.load('en_core_web_sm')"
   ]
  },
  {
   "cell_type": "markdown",
   "id": "146bb219",
   "metadata": {},
   "source": [
    "above en_core_web_sm is a traind model in spacy we can use it in our news summary generation \n",
    "because above model is best suited with news etc."
   ]
  },
  {
   "cell_type": "code",
   "execution_count": 16,
   "id": "8a654aaf",
   "metadata": {
    "collapsed": true
   },
   "outputs": [
    {
     "data": {
      "text/plain": [
       "'The Daman and Diu administration on Wednesday withdrew a circular that asked women staff to tie rakhis on male colleagues after the order triggered a backlash from employees and was ripped apart on social media.The union territory?s administration was forced to retreat within 24 hours of issuing the circular that made it compulsory for its staff to celebrate Rakshabandhan at workplace.?It has been decided to celebrate the festival of Rakshabandhan on August 7. In this connection, all offices/ departments shall remain open and celebrate the festival collectively at a suitable time wherein all the lady staff shall tie rakhis to their colleagues,? the order, issued on August 1 by Gurpreet Singh, deputy secretary (personnel), had said.To ensure that no one skipped office, an attendance report was to be sent to the government the next evening.The two notifications ? one mandating the celebration of Rakshabandhan (left) and the other withdrawing the mandate (right) ? were issued by the Daman and Diu administration a day apart. The circular was withdrawn through a one-line order issued late in the evening by the UT?s department of personnel and administrative reforms.?The circular is ridiculous. There are sensitivities involved. How can the government dictate who I should tie rakhi to? We should maintain the professionalism of a workplace? an official told Hindustan Times earlier in the day. She refused to be identified.The notice was issued on Daman and Diu administrator and former Gujarat home minister Praful Kodabhai Patel?s direction, sources said.Rakshabandhan, a celebration of the bond between brothers and sisters, is one of several Hindu festivities and rituals that are no longer confined of private, family affairs but have become tools to push politic al ideologies.In 2014, the year BJP stormed to power at the Centre, Rashtriya Swayamsevak Sangh (RSS) chief Mohan Bhagwat said the festival had ?national significance? and should be celebrated widely ?to protect Hindu culture and live by the values enshrined in it?. The RSS is the ideological parent of the ruling BJP.Last year, women ministers in the Modi government went to the border areas to celebrate the festival with soldiers. A year before, all cabinet ministers were asked to go to their constituencies for the festival.'"
      ]
     },
     "execution_count": 16,
     "metadata": {},
     "output_type": "execute_result"
    }
   ],
   "source": [
    "raw_data['ctext'][0]"
   ]
  },
  {
   "cell_type": "code",
   "execution_count": 17,
   "id": "b9c302cd",
   "metadata": {},
   "outputs": [
    {
     "data": {
      "text/plain": [
       "4514"
      ]
     },
     "execution_count": 17,
     "metadata": {},
     "output_type": "execute_result"
    }
   ],
   "source": [
    "raw_data.shape[0]"
   ]
  },
  {
   "cell_type": "code",
   "execution_count": 35,
   "id": "309249c1",
   "metadata": {},
   "outputs": [],
   "source": [
    "doc = nlp(raw_data['ctext'][0])"
   ]
  },
  {
   "cell_type": "code",
   "execution_count": 36,
   "id": "331504f3",
   "metadata": {},
   "outputs": [
    {
     "name": "stdout",
     "output_type": "stream",
     "text": [
      "['The', 'Daman', 'and', 'Diu', 'administration', 'on', 'Wednesday', 'withdrew', 'a', 'circular', 'that', 'asked', 'women', 'staff', 'to', 'tie', 'rakhis', 'on', 'male', 'colleagues', 'after', 'the', 'order', 'triggered', 'a', 'backlash', 'from', 'employees', 'and', 'was', 'ripped', 'apart', 'on', 'social', 'media', '.', 'The', 'union', 'territory?s', 'administration', 'was', 'forced', 'to', 'retreat', 'within', '24', 'hours', 'of', 'issuing', 'the', 'circular', 'that', 'made', 'it', 'compulsory', 'for', 'its', 'staff', 'to', 'celebrate', 'Rakshabandhan', 'at', 'workplace.?It', 'has', 'been', 'decided', 'to', 'celebrate', 'the', 'festival', 'of', 'Rakshabandhan', 'on', 'August', '7', '.', 'In', 'this', 'connection', ',', 'all', 'offices/', 'departments', 'shall', 'remain', 'open', 'and', 'celebrate', 'the', 'festival', 'collectively', 'at', 'a', 'suitable', 'time', 'wherein', 'all', 'the', 'lady', 'staff', 'shall', 'tie', 'rakhis', 'to', 'their', 'colleagues', ',', '?', 'the', 'order', ',', 'issued', 'on', 'August', '1', 'by', 'Gurpreet', 'Singh', ',', 'deputy', 'secretary', '(', 'personnel', ')', ',', 'had', 'said', '.', 'To', 'ensure', 'that', 'no', 'one', 'skipped', 'office', ',', 'an', 'attendance', 'report', 'was', 'to', 'be', 'sent', 'to', 'the', 'government', 'the', 'next', 'evening', '.', 'The', 'two', 'notifications', '?', 'one', 'mandating', 'the', 'celebration', 'of', 'Rakshabandhan', '(', 'left', ')', 'and', 'the', 'other', 'withdrawing', 'the', 'mandate', '(', 'right', ')', '?', 'were', 'issued', 'by', 'the', 'Daman', 'and', 'Diu', 'administration', 'a', 'day', 'apart', '.', 'The', 'circular', 'was', 'withdrawn', 'through', 'a', 'one', '-', 'line', 'order', 'issued', 'late', 'in', 'the', 'evening', 'by', 'the', 'UT?s', 'department', 'of', 'personnel', 'and', 'administrative', 'reforms.?The', 'circular', 'is', 'ridiculous', '.', 'There', 'are', 'sensitivities', 'involved', '.', 'How', 'can', 'the', 'government', 'dictate', 'who', 'I', 'should', 'tie', 'rakhi', 'to', '?', 'We', 'should', 'maintain', 'the', 'professionalism', 'of', 'a', 'workplace', '?', 'an', 'official', 'told', 'Hindustan', 'Times', 'earlier', 'in', 'the', 'day', '.', 'She', 'refused', 'to', 'be', 'identified', '.', 'The', 'notice', 'was', 'issued', 'on', 'Daman', 'and', 'Diu', 'administrator', 'and', 'former', 'Gujarat', 'home', 'minister', 'Praful', 'Kodabhai', 'Patel?s', 'direction', ',', 'sources', 'said', '.', 'Rakshabandhan', ',', 'a', 'celebration', 'of', 'the', 'bond', 'between', 'brothers', 'and', 'sisters', ',', 'is', 'one', 'of', 'several', 'Hindu', 'festivities', 'and', 'rituals', 'that', 'are', 'no', 'longer', 'confined', 'of', 'private', ',', 'family', 'affairs', 'but', 'have', 'become', 'tools', 'to', 'push', 'politic', 'al', 'ideologies', '.', 'In', '2014', ',', 'the', 'year', 'BJP', 'stormed', 'to', 'power', 'at', 'the', 'Centre', ',', 'Rashtriya', 'Swayamsevak', 'Sangh', '(', 'RSS', ')', 'chief', 'Mohan', 'Bhagwat', 'said', 'the', 'festival', 'had', '?', 'national', 'significance', '?', 'and', 'should', 'be', 'celebrated', 'widely', '?', 'to', 'protect', 'Hindu', 'culture', 'and', 'live', 'by', 'the', 'values', 'enshrined', 'in', 'it', '?', '.', 'The', 'RSS', 'is', 'the', 'ideological', 'parent', 'of', 'the', 'ruling', 'BJP.Last', 'year', ',', 'women', 'ministers', 'in', 'the', 'Modi', 'government', 'went', 'to', 'the', 'border', 'areas', 'to', 'celebrate', 'the', 'festival', 'with', 'soldiers', '.', 'A', 'year', 'before', ',', 'all', 'cabinet', 'ministers', 'were', 'asked', 'to', 'go', 'to', 'their', 'constituencies', 'for', 'the', 'festival', '.']\n"
     ]
    }
   ],
   "source": [
    "tokens=[token.text for token in doc]\n",
    "print(tokens)"
   ]
  },
  {
   "cell_type": "code",
   "execution_count": 37,
   "id": "86e98a09",
   "metadata": {},
   "outputs": [
    {
     "data": {
      "text/plain": [
       "'!\"#$%&\\'()*+,-./:;<=>?@[\\\\]^_`{|}~'"
      ]
     },
     "execution_count": 37,
     "metadata": {},
     "output_type": "execute_result"
    }
   ],
   "source": [
    "punctuation"
   ]
  },
  {
   "cell_type": "code",
   "execution_count": 38,
   "id": "e92d835a",
   "metadata": {},
   "outputs": [
    {
     "data": {
      "text/plain": [
       "'!\"#$%&\\'()*+,-./:;<=>?@[\\\\]^_`{|}~\\n'"
      ]
     },
     "execution_count": 38,
     "metadata": {},
     "output_type": "execute_result"
    }
   ],
   "source": [
    "punctuation = punctuation+'\\n'\n",
    "punctuation"
   ]
  },
  {
   "cell_type": "code",
   "execution_count": 39,
   "id": "a8c1ea56",
   "metadata": {},
   "outputs": [],
   "source": [
    "stopwords = list(STOP_WORDS)"
   ]
  },
  {
   "cell_type": "code",
   "execution_count": 40,
   "id": "2cfc3a57",
   "metadata": {},
   "outputs": [],
   "source": [
    "### finding word frequencies\n",
    "word_frequencies = {}\n",
    "for word in doc:\n",
    "    if word.text.lower() not in stopwords:\n",
    "        if word.text.lower() not in punctuation:\n",
    "            if word.text not in word_frequencies.keys():\n",
    "                word_frequencies[word.text]=1  # if word is appearing first time\n",
    "            else:\n",
    "                word_frequencies[word.text]+=1 "
   ]
  },
  {
   "cell_type": "code",
   "execution_count": 41,
   "id": "8d71c4dd",
   "metadata": {},
   "outputs": [
    {
     "data": {
      "text/plain": [
       "{'Daman': 3,\n",
       " 'Diu': 3,\n",
       " 'administration': 3,\n",
       " 'Wednesday': 1,\n",
       " 'withdrew': 1,\n",
       " 'circular': 4,\n",
       " 'asked': 2,\n",
       " 'women': 2,\n",
       " 'staff': 3,\n",
       " 'tie': 3,\n",
       " 'rakhis': 2,\n",
       " 'male': 1,\n",
       " 'colleagues': 2,\n",
       " 'order': 3,\n",
       " 'triggered': 1,\n",
       " 'backlash': 1,\n",
       " 'employees': 1,\n",
       " 'ripped': 1,\n",
       " 'apart': 2,\n",
       " 'social': 1,\n",
       " 'media': 1,\n",
       " 'union': 1,\n",
       " 'territory?s': 1,\n",
       " 'forced': 1,\n",
       " 'retreat': 1,\n",
       " '24': 1,\n",
       " 'hours': 1,\n",
       " 'issuing': 1,\n",
       " 'compulsory': 1,\n",
       " 'celebrate': 4,\n",
       " 'Rakshabandhan': 4,\n",
       " 'workplace.?It': 1,\n",
       " 'decided': 1,\n",
       " 'festival': 5,\n",
       " 'August': 2,\n",
       " '7': 1,\n",
       " 'connection': 1,\n",
       " 'offices/': 1,\n",
       " 'departments': 1,\n",
       " 'shall': 2,\n",
       " 'remain': 1,\n",
       " 'open': 1,\n",
       " 'collectively': 1,\n",
       " 'suitable': 1,\n",
       " 'time': 1,\n",
       " 'lady': 1,\n",
       " 'issued': 4,\n",
       " '1': 1,\n",
       " 'Gurpreet': 1,\n",
       " 'Singh': 1,\n",
       " 'deputy': 1,\n",
       " 'secretary': 1,\n",
       " 'personnel': 2,\n",
       " 'said': 3,\n",
       " 'ensure': 1,\n",
       " 'skipped': 1,\n",
       " 'office': 1,\n",
       " 'attendance': 1,\n",
       " 'report': 1,\n",
       " 'sent': 1,\n",
       " 'government': 3,\n",
       " 'evening': 2,\n",
       " 'notifications': 1,\n",
       " 'mandating': 1,\n",
       " 'celebration': 2,\n",
       " 'left': 1,\n",
       " 'withdrawing': 1,\n",
       " 'mandate': 1,\n",
       " 'right': 1,\n",
       " 'day': 2,\n",
       " 'withdrawn': 1,\n",
       " 'line': 1,\n",
       " 'late': 1,\n",
       " 'UT?s': 1,\n",
       " 'department': 1,\n",
       " 'administrative': 1,\n",
       " 'reforms.?The': 1,\n",
       " 'ridiculous': 1,\n",
       " 'sensitivities': 1,\n",
       " 'involved': 1,\n",
       " 'dictate': 1,\n",
       " 'rakhi': 1,\n",
       " 'maintain': 1,\n",
       " 'professionalism': 1,\n",
       " 'workplace': 1,\n",
       " 'official': 1,\n",
       " 'told': 1,\n",
       " 'Hindustan': 1,\n",
       " 'Times': 1,\n",
       " 'earlier': 1,\n",
       " 'refused': 1,\n",
       " 'identified': 1,\n",
       " 'notice': 1,\n",
       " 'administrator': 1,\n",
       " 'Gujarat': 1,\n",
       " 'home': 1,\n",
       " 'minister': 1,\n",
       " 'Praful': 1,\n",
       " 'Kodabhai': 1,\n",
       " 'Patel?s': 1,\n",
       " 'direction': 1,\n",
       " 'sources': 1,\n",
       " 'bond': 1,\n",
       " 'brothers': 1,\n",
       " 'sisters': 1,\n",
       " 'Hindu': 2,\n",
       " 'festivities': 1,\n",
       " 'rituals': 1,\n",
       " 'longer': 1,\n",
       " 'confined': 1,\n",
       " 'private': 1,\n",
       " 'family': 1,\n",
       " 'affairs': 1,\n",
       " 'tools': 1,\n",
       " 'push': 1,\n",
       " 'politic': 1,\n",
       " 'al': 1,\n",
       " 'ideologies': 1,\n",
       " '2014': 1,\n",
       " 'year': 3,\n",
       " 'BJP': 1,\n",
       " 'stormed': 1,\n",
       " 'power': 1,\n",
       " 'Centre': 1,\n",
       " 'Rashtriya': 1,\n",
       " 'Swayamsevak': 1,\n",
       " 'Sangh': 1,\n",
       " 'RSS': 2,\n",
       " 'chief': 1,\n",
       " 'Mohan': 1,\n",
       " 'Bhagwat': 1,\n",
       " 'national': 1,\n",
       " 'significance': 1,\n",
       " 'celebrated': 1,\n",
       " 'widely': 1,\n",
       " 'protect': 1,\n",
       " 'culture': 1,\n",
       " 'live': 1,\n",
       " 'values': 1,\n",
       " 'enshrined': 1,\n",
       " 'ideological': 1,\n",
       " 'parent': 1,\n",
       " 'ruling': 1,\n",
       " 'BJP.Last': 1,\n",
       " 'ministers': 2,\n",
       " 'Modi': 1,\n",
       " 'went': 1,\n",
       " 'border': 1,\n",
       " 'areas': 1,\n",
       " 'soldiers': 1,\n",
       " 'cabinet': 1,\n",
       " 'constituencies': 1}"
      ]
     },
     "execution_count": 41,
     "metadata": {},
     "output_type": "execute_result"
    }
   ],
   "source": [
    "word_frequencies"
   ]
  },
  {
   "cell_type": "code",
   "execution_count": 42,
   "id": "3eedd41f",
   "metadata": {},
   "outputs": [
    {
     "data": {
      "text/plain": [
       "5"
      ]
     },
     "execution_count": 42,
     "metadata": {},
     "output_type": "execute_result"
    }
   ],
   "source": [
    "max_frequency = max(word_frequencies.values())\n",
    "max_frequency"
   ]
  },
  {
   "cell_type": "code",
   "execution_count": 43,
   "id": "010bbaf5",
   "metadata": {},
   "outputs": [],
   "source": [
    "for word in word_frequencies.keys():\n",
    "    word_frequencies[word] = word_frequencies[word]/max_frequency"
   ]
  },
  {
   "cell_type": "code",
   "execution_count": 44,
   "id": "248253e5",
   "metadata": {},
   "outputs": [
    {
     "data": {
      "text/plain": [
       "{'Daman': 0.6,\n",
       " 'Diu': 0.6,\n",
       " 'administration': 0.6,\n",
       " 'Wednesday': 0.2,\n",
       " 'withdrew': 0.2,\n",
       " 'circular': 0.8,\n",
       " 'asked': 0.4,\n",
       " 'women': 0.4,\n",
       " 'staff': 0.6,\n",
       " 'tie': 0.6,\n",
       " 'rakhis': 0.4,\n",
       " 'male': 0.2,\n",
       " 'colleagues': 0.4,\n",
       " 'order': 0.6,\n",
       " 'triggered': 0.2,\n",
       " 'backlash': 0.2,\n",
       " 'employees': 0.2,\n",
       " 'ripped': 0.2,\n",
       " 'apart': 0.4,\n",
       " 'social': 0.2,\n",
       " 'media': 0.2,\n",
       " 'union': 0.2,\n",
       " 'territory?s': 0.2,\n",
       " 'forced': 0.2,\n",
       " 'retreat': 0.2,\n",
       " '24': 0.2,\n",
       " 'hours': 0.2,\n",
       " 'issuing': 0.2,\n",
       " 'compulsory': 0.2,\n",
       " 'celebrate': 0.8,\n",
       " 'Rakshabandhan': 0.8,\n",
       " 'workplace.?It': 0.2,\n",
       " 'decided': 0.2,\n",
       " 'festival': 1.0,\n",
       " 'August': 0.4,\n",
       " '7': 0.2,\n",
       " 'connection': 0.2,\n",
       " 'offices/': 0.2,\n",
       " 'departments': 0.2,\n",
       " 'shall': 0.4,\n",
       " 'remain': 0.2,\n",
       " 'open': 0.2,\n",
       " 'collectively': 0.2,\n",
       " 'suitable': 0.2,\n",
       " 'time': 0.2,\n",
       " 'lady': 0.2,\n",
       " 'issued': 0.8,\n",
       " '1': 0.2,\n",
       " 'Gurpreet': 0.2,\n",
       " 'Singh': 0.2,\n",
       " 'deputy': 0.2,\n",
       " 'secretary': 0.2,\n",
       " 'personnel': 0.4,\n",
       " 'said': 0.6,\n",
       " 'ensure': 0.2,\n",
       " 'skipped': 0.2,\n",
       " 'office': 0.2,\n",
       " 'attendance': 0.2,\n",
       " 'report': 0.2,\n",
       " 'sent': 0.2,\n",
       " 'government': 0.6,\n",
       " 'evening': 0.4,\n",
       " 'notifications': 0.2,\n",
       " 'mandating': 0.2,\n",
       " 'celebration': 0.4,\n",
       " 'left': 0.2,\n",
       " 'withdrawing': 0.2,\n",
       " 'mandate': 0.2,\n",
       " 'right': 0.2,\n",
       " 'day': 0.4,\n",
       " 'withdrawn': 0.2,\n",
       " 'line': 0.2,\n",
       " 'late': 0.2,\n",
       " 'UT?s': 0.2,\n",
       " 'department': 0.2,\n",
       " 'administrative': 0.2,\n",
       " 'reforms.?The': 0.2,\n",
       " 'ridiculous': 0.2,\n",
       " 'sensitivities': 0.2,\n",
       " 'involved': 0.2,\n",
       " 'dictate': 0.2,\n",
       " 'rakhi': 0.2,\n",
       " 'maintain': 0.2,\n",
       " 'professionalism': 0.2,\n",
       " 'workplace': 0.2,\n",
       " 'official': 0.2,\n",
       " 'told': 0.2,\n",
       " 'Hindustan': 0.2,\n",
       " 'Times': 0.2,\n",
       " 'earlier': 0.2,\n",
       " 'refused': 0.2,\n",
       " 'identified': 0.2,\n",
       " 'notice': 0.2,\n",
       " 'administrator': 0.2,\n",
       " 'Gujarat': 0.2,\n",
       " 'home': 0.2,\n",
       " 'minister': 0.2,\n",
       " 'Praful': 0.2,\n",
       " 'Kodabhai': 0.2,\n",
       " 'Patel?s': 0.2,\n",
       " 'direction': 0.2,\n",
       " 'sources': 0.2,\n",
       " 'bond': 0.2,\n",
       " 'brothers': 0.2,\n",
       " 'sisters': 0.2,\n",
       " 'Hindu': 0.4,\n",
       " 'festivities': 0.2,\n",
       " 'rituals': 0.2,\n",
       " 'longer': 0.2,\n",
       " 'confined': 0.2,\n",
       " 'private': 0.2,\n",
       " 'family': 0.2,\n",
       " 'affairs': 0.2,\n",
       " 'tools': 0.2,\n",
       " 'push': 0.2,\n",
       " 'politic': 0.2,\n",
       " 'al': 0.2,\n",
       " 'ideologies': 0.2,\n",
       " '2014': 0.2,\n",
       " 'year': 0.6,\n",
       " 'BJP': 0.2,\n",
       " 'stormed': 0.2,\n",
       " 'power': 0.2,\n",
       " 'Centre': 0.2,\n",
       " 'Rashtriya': 0.2,\n",
       " 'Swayamsevak': 0.2,\n",
       " 'Sangh': 0.2,\n",
       " 'RSS': 0.4,\n",
       " 'chief': 0.2,\n",
       " 'Mohan': 0.2,\n",
       " 'Bhagwat': 0.2,\n",
       " 'national': 0.2,\n",
       " 'significance': 0.2,\n",
       " 'celebrated': 0.2,\n",
       " 'widely': 0.2,\n",
       " 'protect': 0.2,\n",
       " 'culture': 0.2,\n",
       " 'live': 0.2,\n",
       " 'values': 0.2,\n",
       " 'enshrined': 0.2,\n",
       " 'ideological': 0.2,\n",
       " 'parent': 0.2,\n",
       " 'ruling': 0.2,\n",
       " 'BJP.Last': 0.2,\n",
       " 'ministers': 0.4,\n",
       " 'Modi': 0.2,\n",
       " 'went': 0.2,\n",
       " 'border': 0.2,\n",
       " 'areas': 0.2,\n",
       " 'soldiers': 0.2,\n",
       " 'cabinet': 0.2,\n",
       " 'constituencies': 0.2}"
      ]
     },
     "execution_count": 44,
     "metadata": {},
     "output_type": "execute_result"
    }
   ],
   "source": [
    "word_frequencies"
   ]
  },
  {
   "cell_type": "code",
   "execution_count": 45,
   "id": "892ca98e",
   "metadata": {},
   "outputs": [
    {
     "name": "stdout",
     "output_type": "stream",
     "text": [
      "[The Daman and Diu administration on Wednesday withdrew a circular that asked women staff to tie rakhis on male colleagues after the order triggered a backlash from employees and was ripped apart on social media., The union territory?s administration was forced to retreat within 24 hours of issuing the circular that made it compulsory for its staff to celebrate Rakshabandhan at workplace.?It has been decided to celebrate the festival of Rakshabandhan on August 7., In this connection, all offices/ departments shall remain open and celebrate the festival collectively at a suitable time wherein all the lady staff shall tie rakhis to their colleagues,?, the order, issued on August 1 by Gurpreet Singh, deputy secretary (personnel), had said., To ensure that no one skipped office, an attendance report was to be sent to the government the next evening., The two notifications ?, one mandating the celebration of Rakshabandhan (left) and the other withdrawing the mandate (right) ? were issued by the Daman and Diu administration a day apart., The circular was withdrawn through a one-line order issued late in the evening by the UT?s department of personnel and administrative reforms.?The circular is ridiculous., There are sensitivities involved., How can the government dictate who I should tie rakhi to?, We should maintain the professionalism of a workplace?, an official told Hindustan Times earlier in the day., She refused to be identified., The notice was issued on Daman and Diu administrator and former Gujarat home minister Praful Kodabhai Patel?s direction, sources said., Rakshabandhan, a celebration of the bond between brothers and sisters, is one of several Hindu festivities and rituals that are no longer confined of private, family affairs but have become tools to push politic al ideologies., In 2014, the year BJP stormed to power at the Centre, Rashtriya Swayamsevak Sangh (RSS) chief Mohan Bhagwat said the festival had ?national significance?, and should be celebrated widely ?to protect Hindu culture and live by the values enshrined in it?., The RSS is the ideological parent of the ruling BJP.Last year, women ministers in the Modi government went to the border areas to celebrate the festival with soldiers., A year before, all cabinet ministers were asked to go to their constituencies for the festival.]\n"
     ]
    }
   ],
   "source": [
    "sentence_tokens=[sent for sent in doc.sents]\n",
    "print(sentence_tokens)"
   ]
  },
  {
   "cell_type": "code",
   "execution_count": 46,
   "id": "83b20897",
   "metadata": {},
   "outputs": [],
   "source": [
    "### Sentence Score calculation\n",
    "\n",
    "sentence_scores = {}\n",
    "for sent in sentence_tokens:\n",
    "    for word in sent:\n",
    "        if word.text.lower() in word_frequencies.keys():\n",
    "            if sent not in sentence_scores.keys():\n",
    "                sentence_scores[sent] = word_frequencies[word.text.lower()]\n",
    "            else:\n",
    "                sentence_scores[sent] += word_frequencies[word.text.lower()]\n",
    "    "
   ]
  },
  {
   "cell_type": "code",
   "execution_count": 47,
   "id": "94863369",
   "metadata": {},
   "outputs": [
    {
     "data": {
      "text/plain": [
       "{The Daman and Diu administration on Wednesday withdrew a circular that asked women staff to tie rakhis on male colleagues after the order triggered a backlash from employees and was ripped apart on social media.: 6.800000000000002,\n",
       " The union territory?s administration was forced to retreat within 24 hours of issuing the circular that made it compulsory for its staff to celebrate Rakshabandhan at workplace.?It has been decided to celebrate the festival of Rakshabandhan on August 7.: 6.6000000000000005,\n",
       " In this connection, all offices/ departments shall remain open and celebrate the festival collectively at a suitable time wherein all the lady staff shall tie rakhis to their colleagues,?: 6.400000000000001,\n",
       " the order, issued on August 1 by Gurpreet Singh, deputy secretary (personnel), had said.: 3.0,\n",
       " To ensure that no one skipped office, an attendance report was to be sent to the government the next evening.: 2.1999999999999997,\n",
       " The two notifications ?: 0.2,\n",
       " one mandating the celebration of Rakshabandhan (left) and the other withdrawing the mandate (right) ? were issued by the Daman and Diu administration a day apart.: 3.6,\n",
       " The circular was withdrawn through a one-line order issued late in the evening by the UT?s department of personnel and administrative reforms.?The circular is ridiculous.: 5.0,\n",
       " There are sensitivities involved.: 0.4,\n",
       " How can the government dictate who I should tie rakhi to?: 1.5999999999999999,\n",
       " We should maintain the professionalism of a workplace?: 0.6000000000000001,\n",
       " an official told Hindustan Times earlier in the day.: 1.0,\n",
       " She refused to be identified.: 0.4,\n",
       " The notice was issued on Daman and Diu administrator and former Gujarat home minister Praful Kodabhai Patel?s direction, sources said.: 2.5999999999999996,\n",
       " Rakshabandhan, a celebration of the bond between brothers and sisters, is one of several Hindu festivities and rituals that are no longer confined of private, family affairs but have become tools to push politic al ideologies.: 3.400000000000001,\n",
       " In 2014, the year BJP stormed to power at the Centre, Rashtriya Swayamsevak Sangh (RSS) chief Mohan Bhagwat said the festival had ?national significance?: 3.4000000000000004,\n",
       " and should be celebrated widely ?to protect Hindu culture and live by the values enshrined in it?.: 1.4,\n",
       " The RSS is the ideological parent of the ruling BJP.Last year, women ministers in the Modi government went to the border areas to celebrate the festival with soldiers.: 5.200000000000001,\n",
       " A year before, all cabinet ministers were asked to go to their constituencies for the festival.: 2.8}"
      ]
     },
     "execution_count": 47,
     "metadata": {},
     "output_type": "execute_result"
    }
   ],
   "source": [
    "sentence_scores"
   ]
  },
  {
   "cell_type": "code",
   "execution_count": 48,
   "id": "8ecba702",
   "metadata": {},
   "outputs": [],
   "source": [
    "from heapq import nlargest"
   ]
  },
  {
   "cell_type": "code",
   "execution_count": 60,
   "id": "c75acf40",
   "metadata": {},
   "outputs": [
    {
     "data": {
      "text/plain": [
       "2"
      ]
     },
     "execution_count": 60,
     "metadata": {},
     "output_type": "execute_result"
    }
   ],
   "source": [
    "\n",
    "select_length = int(len(sentence_tokens) * 0.11)\n",
    "select_length"
   ]
  },
  {
   "cell_type": "code",
   "execution_count": 61,
   "id": "40d7b82c",
   "metadata": {},
   "outputs": [
    {
     "data": {
      "text/plain": [
       "[The Daman and Diu administration on Wednesday withdrew a circular that asked women staff to tie rakhis on male colleagues after the order triggered a backlash from employees and was ripped apart on social media.,\n",
       " The union territory?s administration was forced to retreat within 24 hours of issuing the circular that made it compulsory for its staff to celebrate Rakshabandhan at workplace.?It has been decided to celebrate the festival of Rakshabandhan on August 7.]"
      ]
     },
     "execution_count": 61,
     "metadata": {},
     "output_type": "execute_result"
    }
   ],
   "source": [
    "summary = nlargest(select_length,sentence_scores,key = sentence_scores.get)\n",
    "summary"
   ]
  },
  {
   "cell_type": "code",
   "execution_count": 53,
   "id": "958a2374",
   "metadata": {},
   "outputs": [
    {
     "data": {
      "text/plain": [
       "0    The Administration of Union Territory Daman and Diu has revoked its order that made it compulsory for women to tie rakhis to their male colleagues on the occasion of Rakshabandhan on August 7. The administration was forced to withdraw the decision within 24 hours of issuing the circular after it received flak from employees and was slammed on social media.\n",
       "Name: text, dtype: object"
      ]
     },
     "execution_count": 53,
     "metadata": {},
     "output_type": "execute_result"
    }
   ],
   "source": [
    "raw_data['text'].head(1)"
   ]
  },
  {
   "cell_type": "markdown",
   "id": "3d531931",
   "metadata": {},
   "source": [
    "### and this the coventional method of summarizing the news article using pretrained model of spacy."
   ]
  },
  {
   "cell_type": "code",
   "execution_count": null,
   "id": "ee21307d",
   "metadata": {},
   "outputs": [],
   "source": []
  }
 ],
 "metadata": {
  "kernelspec": {
   "display_name": "Python 3 (ipykernel)",
   "language": "python",
   "name": "python3"
  },
  "language_info": {
   "codemirror_mode": {
    "name": "ipython",
    "version": 3
   },
   "file_extension": ".py",
   "mimetype": "text/x-python",
   "name": "python",
   "nbconvert_exporter": "python",
   "pygments_lexer": "ipython3",
   "version": "3.9.12"
  }
 },
 "nbformat": 4,
 "nbformat_minor": 5
}
